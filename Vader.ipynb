{
  "nbformat": 4,
  "nbformat_minor": 0,
  "metadata": {
    "colab": {
      "provenance": [],
      "authorship_tag": "ABX9TyNz0ckaFkm7xbPK4DJLHUmA",
      "include_colab_link": true
    },
    "kernelspec": {
      "name": "python3",
      "display_name": "Python 3"
    },
    "language_info": {
      "name": "python"
    }
  },
  "cells": [
    {
      "cell_type": "markdown",
      "metadata": {
        "id": "view-in-github",
        "colab_type": "text"
      },
      "source": [
        "<a href=\"https://colab.research.google.com/github/awhitehouse1/DS4002-Project-1/blob/main/Vader.ipynb\" target=\"_parent\"><img src=\"https://colab.research.google.com/assets/colab-badge.svg\" alt=\"Open In Colab\"/></a>"
      ]
    },
    {
      "cell_type": "code",
      "execution_count": 2,
      "metadata": {
        "colab": {
          "base_uri": "https://localhost:8080/"
        },
        "id": "X4gBO6qnWP_p",
        "outputId": "15db12f2-e8ee-4e16-f580-1a9e3e06de31"
      },
      "outputs": [
        {
          "output_type": "stream",
          "name": "stdout",
          "text": [
            "Requirement already satisfied: nltk in /usr/local/lib/python3.10/dist-packages (3.8.1)\n",
            "Requirement already satisfied: click in /usr/local/lib/python3.10/dist-packages (from nltk) (8.1.7)\n",
            "Requirement already satisfied: joblib in /usr/local/lib/python3.10/dist-packages (from nltk) (1.4.2)\n",
            "Requirement already satisfied: regex>=2021.8.3 in /usr/local/lib/python3.10/dist-packages (from nltk) (2024.9.11)\n",
            "Requirement already satisfied: tqdm in /usr/local/lib/python3.10/dist-packages (from nltk) (4.66.5)\n"
          ]
        }
      ],
      "source": [
        "pip install nltk"
      ]
    },
    {
      "cell_type": "code",
      "source": [
        "pip install vaderSentiment"
      ],
      "metadata": {
        "colab": {
          "base_uri": "https://localhost:8080/"
        },
        "id": "0hS5tuwqYeoP",
        "outputId": "cdbb283b-6287-4700-84fd-947610070162"
      },
      "execution_count": 5,
      "outputs": [
        {
          "output_type": "stream",
          "name": "stdout",
          "text": [
            "Collecting vaderSentiment\n",
            "  Downloading vaderSentiment-3.3.2-py2.py3-none-any.whl.metadata (572 bytes)\n",
            "Requirement already satisfied: requests in /usr/local/lib/python3.10/dist-packages (from vaderSentiment) (2.32.3)\n",
            "Requirement already satisfied: charset-normalizer<4,>=2 in /usr/local/lib/python3.10/dist-packages (from requests->vaderSentiment) (3.3.2)\n",
            "Requirement already satisfied: idna<4,>=2.5 in /usr/local/lib/python3.10/dist-packages (from requests->vaderSentiment) (3.10)\n",
            "Requirement already satisfied: urllib3<3,>=1.21.1 in /usr/local/lib/python3.10/dist-packages (from requests->vaderSentiment) (2.0.7)\n",
            "Requirement already satisfied: certifi>=2017.4.17 in /usr/local/lib/python3.10/dist-packages (from requests->vaderSentiment) (2024.8.30)\n",
            "Downloading vaderSentiment-3.3.2-py2.py3-none-any.whl (125 kB)\n",
            "\u001b[2K   \u001b[90m━━━━━━━━━━━━━━━━━━━━━━━━━━━━━━━━━━━━━━━━\u001b[0m \u001b[32m126.0/126.0 kB\u001b[0m \u001b[31m3.2 MB/s\u001b[0m eta \u001b[36m0:00:00\u001b[0m\n",
            "\u001b[?25hInstalling collected packages: vaderSentiment\n",
            "Successfully installed vaderSentiment-3.3.2\n"
          ]
        }
      ]
    },
    {
      "cell_type": "code",
      "source": [
        "# Import necessary libraries\n",
        "import pandas as pd\n",
        "import re\n",
        "from nltk.corpus import stopwords\n",
        "from vaderSentiment.vaderSentiment import SentimentIntensityAnalyzer\n",
        "import nltk"
      ],
      "metadata": {
        "id": "AqmqNx_6YRJy"
      },
      "execution_count": 6,
      "outputs": []
    },
    {
      "cell_type": "code",
      "source": [
        "# Download stopwords if not already downloaded\n",
        "nltk.download('stopwords')\n",
        "stop_words = set(stopwords.words('english'))"
      ],
      "metadata": {
        "colab": {
          "base_uri": "https://localhost:8080/"
        },
        "id": "RrqCKVxkYhs9",
        "outputId": "3bbefa61-3489-460e-bc2a-5934b99aa20b"
      },
      "execution_count": 7,
      "outputs": [
        {
          "output_type": "stream",
          "name": "stderr",
          "text": [
            "[nltk_data] Downloading package stopwords to /root/nltk_data...\n",
            "[nltk_data]   Package stopwords is already up-to-date!\n"
          ]
        }
      ]
    },
    {
      "cell_type": "code",
      "source": [
        "# Load the CSV file into a DataFrame\n",
        "df = pd.read_csv('amazon_reviews.csv')"
      ],
      "metadata": {
        "id": "i-TRC82qYmav"
      },
      "execution_count": 8,
      "outputs": []
    },
    {
      "cell_type": "code",
      "source": [
        "# Drop the unwanted columns\n",
        "df = df.drop(columns=['score_pos_neg_diff', 'score_average_rating', 'wilson_lower_bound'])"
      ],
      "metadata": {
        "id": "Dk7TrEDHYo06"
      },
      "execution_count": 9,
      "outputs": []
    },
    {
      "cell_type": "code",
      "source": [
        "# Pre-process the 'reviewText' column\n",
        "def preprocess_text(text):\n",
        "    # Convert to lowercase\n",
        "    text = text.lower()\n",
        "    # Remove non-alphabetic characters\n",
        "    text = re.sub(r'[^a-z\\s]', '', text)\n",
        "    # Remove stop words\n",
        "    text = ' '.join([word for word in text.split() if word not in stop_words])\n",
        "    return text\n"
      ],
      "metadata": {
        "id": "OMGbf40XYr11"
      },
      "execution_count": 10,
      "outputs": []
    },
    {
      "cell_type": "code",
      "source": [
        "df['cleaned_reviewText'] = df['reviewText'].apply(lambda x: preprocess_text(str(x)))"
      ],
      "metadata": {
        "id": "gR03hkdDYuLu"
      },
      "execution_count": 11,
      "outputs": []
    },
    {
      "cell_type": "code",
      "source": [
        "# Initialize the VADER sentiment analyzer\n",
        "analyzer = SentimentIntensityAnalyzer()"
      ],
      "metadata": {
        "id": "XlTzcG53Ywua"
      },
      "execution_count": 14,
      "outputs": []
    },
    {
      "cell_type": "code",
      "source": [
        "# Apply sentiment analysis on the pre-processed 'cleaned_reviewText' column\n",
        "df['sentiment_scores'] = df['cleaned_reviewText'].apply(lambda x: analyzer.polarity_scores(x))"
      ],
      "metadata": {
        "id": "9w1bQm6BY0eW"
      },
      "execution_count": 15,
      "outputs": []
    },
    {
      "cell_type": "code",
      "source": [
        "# Extract the compound score as the overall sentiment score\n",
        "df['compound_score'] = df['sentiment_scores'].apply(lambda score_dict: score_dict['compound'])\n"
      ],
      "metadata": {
        "id": "uIWGvaQtY3Zt"
      },
      "execution_count": 16,
      "outputs": []
    },
    {
      "cell_type": "code",
      "source": [
        "# Display the first few rows of the processed DataFrame\n",
        "print(df[['reviewerName', 'reviewText', 'cleaned_reviewText', 'compound_score']].head())"
      ],
      "metadata": {
        "colab": {
          "base_uri": "https://localhost:8080/"
        },
        "id": "P79jr6_nZADU",
        "outputId": "bd43b6ed-e0b6-4955-d4b8-2c5ae1bc275b"
      },
      "execution_count": 18,
      "outputs": [
        {
          "output_type": "stream",
          "name": "stdout",
          "text": [
            "   reviewerName                                         reviewText  \\\n",
            "0           NaN                                         No issues.   \n",
            "1          0mie  Purchased this for my device, it worked as adv...   \n",
            "2           1K3  it works as expected. I should have sprung for...   \n",
            "3           1m2  This think has worked out great.Had a diff. br...   \n",
            "4  2&amp;1/2Men  Bought it with Retail Packaging, arrived legit...   \n",
            "\n",
            "                                  cleaned_reviewText  compound_score  \n",
            "0                                             issues          0.0000  \n",
            "1  purchased device worked advertised never much ...          0.0000  \n",
            "2  works expected sprung higher capacity think ma...          0.4019  \n",
            "3  think worked greathad diff bran gb card went s...          0.6486  \n",
            "4  bought retail packaging arrived legit orange e...          0.8591  \n"
          ]
        }
      ]
    },
    {
      "cell_type": "code",
      "source": [
        "# Checking for correlation between compound score and overall rating\n",
        "# Ensure 'overall' column is present in the dataframe and is numeric\n",
        "df['overall'] = pd.to_numeric(df['overall'], errors='coerce')"
      ],
      "metadata": {
        "id": "TORGxoTNZUXf"
      },
      "execution_count": 19,
      "outputs": []
    },
    {
      "cell_type": "code",
      "source": [
        "# Check for correlation between 'compound_score' and 'overall'\n",
        "correlation = df['compound_score'].corr(df['overall'])"
      ],
      "metadata": {
        "id": "eRdJKGWkZdyO"
      },
      "execution_count": 20,
      "outputs": []
    },
    {
      "cell_type": "code",
      "source": [
        "print(f\"The correlation between the compound score and the overall rating is: {correlation}\")"
      ],
      "metadata": {
        "colab": {
          "base_uri": "https://localhost:8080/"
        },
        "id": "itP1FzQrZg1L",
        "outputId": "72a0dacd-7b25-40b6-ba89-82967aaa723b"
      },
      "execution_count": 21,
      "outputs": [
        {
          "output_type": "stream",
          "name": "stdout",
          "text": [
            "The correlation between the compound score and the overall rating is: 0.3185488215615132\n"
          ]
        }
      ]
    },
    {
      "cell_type": "code",
      "source": [
        "# The correlation is 0.3185 (interesting...)"
      ],
      "metadata": {
        "id": "otPWMg9jZi6w"
      },
      "execution_count": null,
      "outputs": []
    }
  ]
}